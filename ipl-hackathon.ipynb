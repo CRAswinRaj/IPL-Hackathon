{
 "cells": [
  {
   "cell_type": "markdown",
   "metadata": {},
   "source": [
    "## **Problem Statement**\n",
    "Entire data of previous IPLs is given as reference. Using the given data to create a model to predict runs scored in the first six overs in both the innings of the upcoming IPL matches."
   ]
  },
  {
   "cell_type": "code",
   "execution_count": 1,
   "metadata": {
    "_cell_guid": "b1076dfc-b9ad-4769-8c92-a6c4dae69d19",
    "_uuid": "8f2839f25d086af736a60e9eeb907d3b93b6e0e5",
    "execution": {
     "iopub.execute_input": "2021-07-18T11:21:26.350437Z",
     "iopub.status.busy": "2021-07-18T11:21:26.349859Z",
     "iopub.status.idle": "2021-07-18T11:21:26.362298Z",
     "shell.execute_reply": "2021-07-18T11:21:26.360932Z",
     "shell.execute_reply.started": "2021-07-18T11:21:26.350326Z"
    }
   },
   "outputs": [],
   "source": [
    "import numpy as np\n",
    "import pandas as pd "
   ]
  },
  {
   "cell_type": "markdown",
   "metadata": {},
   "source": [
    "## Collecting Data"
   ]
  },
  {
   "cell_type": "code",
   "execution_count": 2,
   "metadata": {
    "execution": {
     "iopub.execute_input": "2021-07-18T11:21:26.364614Z",
     "iopub.status.busy": "2021-07-18T11:21:26.364196Z",
     "iopub.status.idle": "2021-07-18T11:21:27.486858Z",
     "shell.execute_reply": "2021-07-18T11:21:27.485602Z",
     "shell.execute_reply.started": "2021-07-18T11:21:26.36458Z"
    }
   },
   "outputs": [
    {
     "name": "stderr",
     "output_type": "stream",
     "text": [
      "/usr/lib/python3/dist-packages/IPython/core/interactiveshell.py:3062: DtypeWarning: Columns (1) have mixed types.Specify dtype option on import or set low_memory=False.\n",
      "  has_raised = await self.run_ast_nodes(code_ast.body, cell_name,\n"
     ]
    },
    {
     "data": {
      "text/html": [
       "<div>\n",
       "<style scoped>\n",
       "    .dataframe tbody tr th:only-of-type {\n",
       "        vertical-align: middle;\n",
       "    }\n",
       "\n",
       "    .dataframe tbody tr th {\n",
       "        vertical-align: top;\n",
       "    }\n",
       "\n",
       "    .dataframe thead th {\n",
       "        text-align: right;\n",
       "    }\n",
       "</style>\n",
       "<table border=\"1\" class=\"dataframe\">\n",
       "  <thead>\n",
       "    <tr style=\"text-align: right;\">\n",
       "      <th></th>\n",
       "      <th>match_id</th>\n",
       "      <th>season</th>\n",
       "      <th>start_date</th>\n",
       "      <th>venue</th>\n",
       "      <th>innings</th>\n",
       "      <th>ball</th>\n",
       "      <th>batting_team</th>\n",
       "      <th>bowling_team</th>\n",
       "      <th>striker</th>\n",
       "      <th>non_striker</th>\n",
       "      <th>...</th>\n",
       "      <th>extras</th>\n",
       "      <th>wides</th>\n",
       "      <th>noballs</th>\n",
       "      <th>byes</th>\n",
       "      <th>legbyes</th>\n",
       "      <th>penalty</th>\n",
       "      <th>wicket_type</th>\n",
       "      <th>player_dismissed</th>\n",
       "      <th>other_wicket_type</th>\n",
       "      <th>other_player_dismissed</th>\n",
       "    </tr>\n",
       "  </thead>\n",
       "  <tbody>\n",
       "    <tr>\n",
       "      <th>0</th>\n",
       "      <td>335982</td>\n",
       "      <td>2007/08</td>\n",
       "      <td>2008-04-18</td>\n",
       "      <td>M Chinnaswamy Stadium</td>\n",
       "      <td>1</td>\n",
       "      <td>0.1</td>\n",
       "      <td>Kolkata Knight Riders</td>\n",
       "      <td>Royal Challengers Bangalore</td>\n",
       "      <td>SC Ganguly</td>\n",
       "      <td>BB McCullum</td>\n",
       "      <td>...</td>\n",
       "      <td>1</td>\n",
       "      <td>NaN</td>\n",
       "      <td>NaN</td>\n",
       "      <td>NaN</td>\n",
       "      <td>1.0</td>\n",
       "      <td>NaN</td>\n",
       "      <td>NaN</td>\n",
       "      <td>NaN</td>\n",
       "      <td>NaN</td>\n",
       "      <td>NaN</td>\n",
       "    </tr>\n",
       "    <tr>\n",
       "      <th>1</th>\n",
       "      <td>335982</td>\n",
       "      <td>2007/08</td>\n",
       "      <td>2008-04-18</td>\n",
       "      <td>M Chinnaswamy Stadium</td>\n",
       "      <td>1</td>\n",
       "      <td>0.2</td>\n",
       "      <td>Kolkata Knight Riders</td>\n",
       "      <td>Royal Challengers Bangalore</td>\n",
       "      <td>BB McCullum</td>\n",
       "      <td>SC Ganguly</td>\n",
       "      <td>...</td>\n",
       "      <td>0</td>\n",
       "      <td>NaN</td>\n",
       "      <td>NaN</td>\n",
       "      <td>NaN</td>\n",
       "      <td>NaN</td>\n",
       "      <td>NaN</td>\n",
       "      <td>NaN</td>\n",
       "      <td>NaN</td>\n",
       "      <td>NaN</td>\n",
       "      <td>NaN</td>\n",
       "    </tr>\n",
       "    <tr>\n",
       "      <th>2</th>\n",
       "      <td>335982</td>\n",
       "      <td>2007/08</td>\n",
       "      <td>2008-04-18</td>\n",
       "      <td>M Chinnaswamy Stadium</td>\n",
       "      <td>1</td>\n",
       "      <td>0.3</td>\n",
       "      <td>Kolkata Knight Riders</td>\n",
       "      <td>Royal Challengers Bangalore</td>\n",
       "      <td>BB McCullum</td>\n",
       "      <td>SC Ganguly</td>\n",
       "      <td>...</td>\n",
       "      <td>1</td>\n",
       "      <td>1.0</td>\n",
       "      <td>NaN</td>\n",
       "      <td>NaN</td>\n",
       "      <td>NaN</td>\n",
       "      <td>NaN</td>\n",
       "      <td>NaN</td>\n",
       "      <td>NaN</td>\n",
       "      <td>NaN</td>\n",
       "      <td>NaN</td>\n",
       "    </tr>\n",
       "    <tr>\n",
       "      <th>3</th>\n",
       "      <td>335982</td>\n",
       "      <td>2007/08</td>\n",
       "      <td>2008-04-18</td>\n",
       "      <td>M Chinnaswamy Stadium</td>\n",
       "      <td>1</td>\n",
       "      <td>0.4</td>\n",
       "      <td>Kolkata Knight Riders</td>\n",
       "      <td>Royal Challengers Bangalore</td>\n",
       "      <td>BB McCullum</td>\n",
       "      <td>SC Ganguly</td>\n",
       "      <td>...</td>\n",
       "      <td>0</td>\n",
       "      <td>NaN</td>\n",
       "      <td>NaN</td>\n",
       "      <td>NaN</td>\n",
       "      <td>NaN</td>\n",
       "      <td>NaN</td>\n",
       "      <td>NaN</td>\n",
       "      <td>NaN</td>\n",
       "      <td>NaN</td>\n",
       "      <td>NaN</td>\n",
       "    </tr>\n",
       "    <tr>\n",
       "      <th>4</th>\n",
       "      <td>335982</td>\n",
       "      <td>2007/08</td>\n",
       "      <td>2008-04-18</td>\n",
       "      <td>M Chinnaswamy Stadium</td>\n",
       "      <td>1</td>\n",
       "      <td>0.5</td>\n",
       "      <td>Kolkata Knight Riders</td>\n",
       "      <td>Royal Challengers Bangalore</td>\n",
       "      <td>BB McCullum</td>\n",
       "      <td>SC Ganguly</td>\n",
       "      <td>...</td>\n",
       "      <td>0</td>\n",
       "      <td>NaN</td>\n",
       "      <td>NaN</td>\n",
       "      <td>NaN</td>\n",
       "      <td>NaN</td>\n",
       "      <td>NaN</td>\n",
       "      <td>NaN</td>\n",
       "      <td>NaN</td>\n",
       "      <td>NaN</td>\n",
       "      <td>NaN</td>\n",
       "    </tr>\n",
       "  </tbody>\n",
       "</table>\n",
       "<p>5 rows × 22 columns</p>\n",
       "</div>"
      ],
      "text/plain": [
       "   match_id   season  start_date                  venue  innings  ball  \\\n",
       "0    335982  2007/08  2008-04-18  M Chinnaswamy Stadium        1   0.1   \n",
       "1    335982  2007/08  2008-04-18  M Chinnaswamy Stadium        1   0.2   \n",
       "2    335982  2007/08  2008-04-18  M Chinnaswamy Stadium        1   0.3   \n",
       "3    335982  2007/08  2008-04-18  M Chinnaswamy Stadium        1   0.4   \n",
       "4    335982  2007/08  2008-04-18  M Chinnaswamy Stadium        1   0.5   \n",
       "\n",
       "            batting_team                 bowling_team      striker  \\\n",
       "0  Kolkata Knight Riders  Royal Challengers Bangalore   SC Ganguly   \n",
       "1  Kolkata Knight Riders  Royal Challengers Bangalore  BB McCullum   \n",
       "2  Kolkata Knight Riders  Royal Challengers Bangalore  BB McCullum   \n",
       "3  Kolkata Knight Riders  Royal Challengers Bangalore  BB McCullum   \n",
       "4  Kolkata Knight Riders  Royal Challengers Bangalore  BB McCullum   \n",
       "\n",
       "   non_striker  ... extras  wides  noballs  byes  legbyes  penalty  \\\n",
       "0  BB McCullum  ...      1    NaN      NaN   NaN      1.0      NaN   \n",
       "1   SC Ganguly  ...      0    NaN      NaN   NaN      NaN      NaN   \n",
       "2   SC Ganguly  ...      1    1.0      NaN   NaN      NaN      NaN   \n",
       "3   SC Ganguly  ...      0    NaN      NaN   NaN      NaN      NaN   \n",
       "4   SC Ganguly  ...      0    NaN      NaN   NaN      NaN      NaN   \n",
       "\n",
       "   wicket_type  player_dismissed other_wicket_type other_player_dismissed  \n",
       "0          NaN               NaN               NaN                    NaN  \n",
       "1          NaN               NaN               NaN                    NaN  \n",
       "2          NaN               NaN               NaN                    NaN  \n",
       "3          NaN               NaN               NaN                    NaN  \n",
       "4          NaN               NaN               NaN                    NaN  \n",
       "\n",
       "[5 rows x 22 columns]"
      ]
     },
     "execution_count": 2,
     "metadata": {},
     "output_type": "execute_result"
    }
   ],
   "source": [
    "dataset = pd.read_csv('all_matches.csv')\n",
    "dataset.head()"
   ]
  },
  {
   "cell_type": "code",
   "execution_count": 3,
   "metadata": {
    "execution": {
     "iopub.execute_input": "2021-07-18T11:21:27.491042Z",
     "iopub.status.busy": "2021-07-18T11:21:27.490648Z",
     "iopub.status.idle": "2021-07-18T11:21:27.498458Z",
     "shell.execute_reply": "2021-07-18T11:21:27.497485Z",
     "shell.execute_reply.started": "2021-07-18T11:21:27.491004Z"
    }
   },
   "outputs": [
    {
     "data": {
      "text/plain": [
       "Index(['match_id', 'season', 'start_date', 'venue', 'innings', 'ball',\n",
       "       'batting_team', 'bowling_team', 'striker', 'non_striker', 'bowler',\n",
       "       'runs_off_bat', 'extras', 'wides', 'noballs', 'byes', 'legbyes',\n",
       "       'penalty', 'wicket_type', 'player_dismissed', 'other_wicket_type',\n",
       "       'other_player_dismissed'],\n",
       "      dtype='object')"
      ]
     },
     "execution_count": 3,
     "metadata": {},
     "output_type": "execute_result"
    }
   ],
   "source": [
    "dataset.columns"
   ]
  },
  {
   "cell_type": "markdown",
   "metadata": {},
   "source": [
    "## Data Preprocessing"
   ]
  },
  {
   "cell_type": "code",
   "execution_count": 4,
   "metadata": {
    "execution": {
     "iopub.execute_input": "2021-07-18T11:21:27.500498Z",
     "iopub.status.busy": "2021-07-18T11:21:27.500133Z",
     "iopub.status.idle": "2021-07-18T11:21:27.571125Z",
     "shell.execute_reply": "2021-07-18T11:21:27.569748Z",
     "shell.execute_reply.started": "2021-07-18T11:21:27.500465Z"
    }
   },
   "outputs": [
    {
     "data": {
      "text/html": [
       "<div>\n",
       "<style scoped>\n",
       "    .dataframe tbody tr th:only-of-type {\n",
       "        vertical-align: middle;\n",
       "    }\n",
       "\n",
       "    .dataframe tbody tr th {\n",
       "        vertical-align: top;\n",
       "    }\n",
       "\n",
       "    .dataframe thead th {\n",
       "        text-align: right;\n",
       "    }\n",
       "</style>\n",
       "<table border=\"1\" class=\"dataframe\">\n",
       "  <thead>\n",
       "    <tr style=\"text-align: right;\">\n",
       "      <th></th>\n",
       "      <th>match_id</th>\n",
       "      <th>season</th>\n",
       "      <th>start_date</th>\n",
       "      <th>venue</th>\n",
       "      <th>innings</th>\n",
       "      <th>ball</th>\n",
       "      <th>batting_team</th>\n",
       "      <th>bowling_team</th>\n",
       "      <th>striker</th>\n",
       "      <th>non_striker</th>\n",
       "      <th>...</th>\n",
       "      <th>wides</th>\n",
       "      <th>noballs</th>\n",
       "      <th>byes</th>\n",
       "      <th>legbyes</th>\n",
       "      <th>penalty</th>\n",
       "      <th>wicket_type</th>\n",
       "      <th>player_dismissed</th>\n",
       "      <th>other_wicket_type</th>\n",
       "      <th>other_player_dismissed</th>\n",
       "      <th>total_runs</th>\n",
       "    </tr>\n",
       "  </thead>\n",
       "  <tbody>\n",
       "    <tr>\n",
       "      <th>0</th>\n",
       "      <td>335982</td>\n",
       "      <td>2007/08</td>\n",
       "      <td>2008-04-18</td>\n",
       "      <td>M Chinnaswamy Stadium</td>\n",
       "      <td>1</td>\n",
       "      <td>0.1</td>\n",
       "      <td>Kolkata Knight Riders</td>\n",
       "      <td>Royal Challengers Bangalore</td>\n",
       "      <td>SC Ganguly</td>\n",
       "      <td>BB McCullum</td>\n",
       "      <td>...</td>\n",
       "      <td>NaN</td>\n",
       "      <td>NaN</td>\n",
       "      <td>NaN</td>\n",
       "      <td>1.0</td>\n",
       "      <td>NaN</td>\n",
       "      <td>NaN</td>\n",
       "      <td>NaN</td>\n",
       "      <td>NaN</td>\n",
       "      <td>NaN</td>\n",
       "      <td>1</td>\n",
       "    </tr>\n",
       "    <tr>\n",
       "      <th>1</th>\n",
       "      <td>335982</td>\n",
       "      <td>2007/08</td>\n",
       "      <td>2008-04-18</td>\n",
       "      <td>M Chinnaswamy Stadium</td>\n",
       "      <td>1</td>\n",
       "      <td>0.2</td>\n",
       "      <td>Kolkata Knight Riders</td>\n",
       "      <td>Royal Challengers Bangalore</td>\n",
       "      <td>BB McCullum</td>\n",
       "      <td>SC Ganguly</td>\n",
       "      <td>...</td>\n",
       "      <td>NaN</td>\n",
       "      <td>NaN</td>\n",
       "      <td>NaN</td>\n",
       "      <td>NaN</td>\n",
       "      <td>NaN</td>\n",
       "      <td>NaN</td>\n",
       "      <td>NaN</td>\n",
       "      <td>NaN</td>\n",
       "      <td>NaN</td>\n",
       "      <td>0</td>\n",
       "    </tr>\n",
       "    <tr>\n",
       "      <th>2</th>\n",
       "      <td>335982</td>\n",
       "      <td>2007/08</td>\n",
       "      <td>2008-04-18</td>\n",
       "      <td>M Chinnaswamy Stadium</td>\n",
       "      <td>1</td>\n",
       "      <td>0.3</td>\n",
       "      <td>Kolkata Knight Riders</td>\n",
       "      <td>Royal Challengers Bangalore</td>\n",
       "      <td>BB McCullum</td>\n",
       "      <td>SC Ganguly</td>\n",
       "      <td>...</td>\n",
       "      <td>1.0</td>\n",
       "      <td>NaN</td>\n",
       "      <td>NaN</td>\n",
       "      <td>NaN</td>\n",
       "      <td>NaN</td>\n",
       "      <td>NaN</td>\n",
       "      <td>NaN</td>\n",
       "      <td>NaN</td>\n",
       "      <td>NaN</td>\n",
       "      <td>1</td>\n",
       "    </tr>\n",
       "    <tr>\n",
       "      <th>3</th>\n",
       "      <td>335982</td>\n",
       "      <td>2007/08</td>\n",
       "      <td>2008-04-18</td>\n",
       "      <td>M Chinnaswamy Stadium</td>\n",
       "      <td>1</td>\n",
       "      <td>0.4</td>\n",
       "      <td>Kolkata Knight Riders</td>\n",
       "      <td>Royal Challengers Bangalore</td>\n",
       "      <td>BB McCullum</td>\n",
       "      <td>SC Ganguly</td>\n",
       "      <td>...</td>\n",
       "      <td>NaN</td>\n",
       "      <td>NaN</td>\n",
       "      <td>NaN</td>\n",
       "      <td>NaN</td>\n",
       "      <td>NaN</td>\n",
       "      <td>NaN</td>\n",
       "      <td>NaN</td>\n",
       "      <td>NaN</td>\n",
       "      <td>NaN</td>\n",
       "      <td>0</td>\n",
       "    </tr>\n",
       "    <tr>\n",
       "      <th>4</th>\n",
       "      <td>335982</td>\n",
       "      <td>2007/08</td>\n",
       "      <td>2008-04-18</td>\n",
       "      <td>M Chinnaswamy Stadium</td>\n",
       "      <td>1</td>\n",
       "      <td>0.5</td>\n",
       "      <td>Kolkata Knight Riders</td>\n",
       "      <td>Royal Challengers Bangalore</td>\n",
       "      <td>BB McCullum</td>\n",
       "      <td>SC Ganguly</td>\n",
       "      <td>...</td>\n",
       "      <td>NaN</td>\n",
       "      <td>NaN</td>\n",
       "      <td>NaN</td>\n",
       "      <td>NaN</td>\n",
       "      <td>NaN</td>\n",
       "      <td>NaN</td>\n",
       "      <td>NaN</td>\n",
       "      <td>NaN</td>\n",
       "      <td>NaN</td>\n",
       "      <td>0</td>\n",
       "    </tr>\n",
       "  </tbody>\n",
       "</table>\n",
       "<p>5 rows × 23 columns</p>\n",
       "</div>"
      ],
      "text/plain": [
       "   match_id   season  start_date                  venue  innings  ball  \\\n",
       "0    335982  2007/08  2008-04-18  M Chinnaswamy Stadium        1   0.1   \n",
       "1    335982  2007/08  2008-04-18  M Chinnaswamy Stadium        1   0.2   \n",
       "2    335982  2007/08  2008-04-18  M Chinnaswamy Stadium        1   0.3   \n",
       "3    335982  2007/08  2008-04-18  M Chinnaswamy Stadium        1   0.4   \n",
       "4    335982  2007/08  2008-04-18  M Chinnaswamy Stadium        1   0.5   \n",
       "\n",
       "            batting_team                 bowling_team      striker  \\\n",
       "0  Kolkata Knight Riders  Royal Challengers Bangalore   SC Ganguly   \n",
       "1  Kolkata Knight Riders  Royal Challengers Bangalore  BB McCullum   \n",
       "2  Kolkata Knight Riders  Royal Challengers Bangalore  BB McCullum   \n",
       "3  Kolkata Knight Riders  Royal Challengers Bangalore  BB McCullum   \n",
       "4  Kolkata Knight Riders  Royal Challengers Bangalore  BB McCullum   \n",
       "\n",
       "   non_striker  ... wides  noballs  byes  legbyes  penalty  wicket_type  \\\n",
       "0  BB McCullum  ...   NaN      NaN   NaN      1.0      NaN          NaN   \n",
       "1   SC Ganguly  ...   NaN      NaN   NaN      NaN      NaN          NaN   \n",
       "2   SC Ganguly  ...   1.0      NaN   NaN      NaN      NaN          NaN   \n",
       "3   SC Ganguly  ...   NaN      NaN   NaN      NaN      NaN          NaN   \n",
       "4   SC Ganguly  ...   NaN      NaN   NaN      NaN      NaN          NaN   \n",
       "\n",
       "   player_dismissed  other_wicket_type other_player_dismissed total_runs  \n",
       "0               NaN                NaN                    NaN          1  \n",
       "1               NaN                NaN                    NaN          0  \n",
       "2               NaN                NaN                    NaN          1  \n",
       "3               NaN                NaN                    NaN          0  \n",
       "4               NaN                NaN                    NaN          0  \n",
       "\n",
       "[5 rows x 23 columns]"
      ]
     },
     "execution_count": 4,
     "metadata": {},
     "output_type": "execute_result"
    }
   ],
   "source": [
    "# Adding 'runs_off_bat' and 'extras' to a single quantity - 'total_runs'\n",
    "dataset['total_runs'] = dataset['runs_off_bat'] + dataset['extras']\n",
    "dataset.head()"
   ]
  },
  {
   "cell_type": "code",
   "execution_count": 5,
   "metadata": {
    "execution": {
     "iopub.execute_input": "2021-07-18T11:21:27.573527Z",
     "iopub.status.busy": "2021-07-18T11:21:27.573043Z",
     "iopub.status.idle": "2021-07-18T11:21:27.609019Z",
     "shell.execute_reply": "2021-07-18T11:21:27.607889Z",
     "shell.execute_reply.started": "2021-07-18T11:21:27.573476Z"
    }
   },
   "outputs": [],
   "source": [
    "# Taking only data within first 6 overs\n",
    "dataset = dataset.loc[dataset['ball'] < 6.0]"
   ]
  },
  {
   "cell_type": "code",
   "execution_count": 6,
   "metadata": {
    "execution": {
     "iopub.execute_input": "2021-07-18T11:21:27.611116Z",
     "iopub.status.busy": "2021-07-18T11:21:27.610696Z",
     "iopub.status.idle": "2021-07-18T11:21:27.62434Z",
     "shell.execute_reply": "2021-07-18T11:21:27.623052Z",
     "shell.execute_reply.started": "2021-07-18T11:21:27.611069Z"
    }
   },
   "outputs": [],
   "source": [
    "# Removing unwanted columns\n",
    "dataset = dataset.drop(columns = ['non_striker', 'runs_off_bat', 'extras', 'wides', 'noballs', 'byes', 'legbyes', 'penalty', 'wicket_type', 'player_dismissed', 'other_wicket_type', 'other_player_dismissed'])"
   ]
  },
  {
   "cell_type": "code",
   "execution_count": 7,
   "metadata": {
    "execution": {
     "iopub.execute_input": "2021-07-18T11:21:27.628305Z",
     "iopub.status.busy": "2021-07-18T11:21:27.627752Z",
     "iopub.status.idle": "2021-07-18T11:21:27.648696Z",
     "shell.execute_reply": "2021-07-18T11:21:27.647836Z",
     "shell.execute_reply.started": "2021-07-18T11:21:27.628255Z"
    }
   },
   "outputs": [
    {
     "data": {
      "text/plain": [
       "{1, 2, 3, 4, 5, 6}"
      ]
     },
     "execution_count": 7,
     "metadata": {},
     "output_type": "execute_result"
    }
   ],
   "source": [
    "set(dataset['innings'])"
   ]
  },
  {
   "cell_type": "markdown",
   "metadata": {},
   "source": [
    "In the dataset obtained, the some values of innings is more than 2 (which is not possible in cricket). So we are removing the matches in which innings have wrong values."
   ]
  },
  {
   "cell_type": "code",
   "execution_count": 8,
   "metadata": {
    "execution": {
     "iopub.execute_input": "2021-07-18T11:21:27.650599Z",
     "iopub.status.busy": "2021-07-18T11:21:27.650244Z",
     "iopub.status.idle": "2021-07-18T11:21:27.826326Z",
     "shell.execute_reply": "2021-07-18T11:21:27.825496Z",
     "shell.execute_reply.started": "2021-07-18T11:21:27.650564Z"
    }
   },
   "outputs": [],
   "source": [
    "improper_matches = set(dataset[dataset.innings > 2].match_id)\n",
    "for match in improper_matches:\n",
    "    indexNames = dataset[dataset.match_id == match].index\n",
    "    dataset = dataset.drop(indexNames)"
   ]
  },
  {
   "cell_type": "code",
   "execution_count": 9,
   "metadata": {
    "execution": {
     "iopub.execute_input": "2021-07-18T11:21:27.828722Z",
     "iopub.status.busy": "2021-07-18T11:21:27.827997Z",
     "iopub.status.idle": "2021-07-18T11:21:27.84687Z",
     "shell.execute_reply": "2021-07-18T11:21:27.845754Z",
     "shell.execute_reply.started": "2021-07-18T11:21:27.828661Z"
    }
   },
   "outputs": [
    {
     "data": {
      "text/plain": [
       "{1, 2}"
      ]
     },
     "execution_count": 9,
     "metadata": {},
     "output_type": "execute_result"
    }
   ],
   "source": [
    "set(dataset.innings)"
   ]
  },
  {
   "cell_type": "markdown",
   "metadata": {},
   "source": [
    "Now the dataset contains only matches with innings is less than 2."
   ]
  },
  {
   "cell_type": "code",
   "execution_count": 10,
   "metadata": {
    "execution": {
     "iopub.execute_input": "2021-07-18T11:21:27.848929Z",
     "iopub.status.busy": "2021-07-18T11:21:27.848488Z",
     "iopub.status.idle": "2021-07-18T11:21:27.887333Z",
     "shell.execute_reply": "2021-07-18T11:21:27.886252Z",
     "shell.execute_reply.started": "2021-07-18T11:21:27.848883Z"
    }
   },
   "outputs": [
    {
     "data": {
      "text/html": [
       "<div>\n",
       "<style scoped>\n",
       "    .dataframe tbody tr th:only-of-type {\n",
       "        vertical-align: middle;\n",
       "    }\n",
       "\n",
       "    .dataframe tbody tr th {\n",
       "        vertical-align: top;\n",
       "    }\n",
       "\n",
       "    .dataframe thead th {\n",
       "        text-align: right;\n",
       "    }\n",
       "</style>\n",
       "<table border=\"1\" class=\"dataframe\">\n",
       "  <thead>\n",
       "    <tr style=\"text-align: right;\">\n",
       "      <th></th>\n",
       "      <th>striker</th>\n",
       "      <th>avg_runs</th>\n",
       "    </tr>\n",
       "  </thead>\n",
       "  <tbody>\n",
       "    <tr>\n",
       "      <th>0</th>\n",
       "      <td>A Ashish Reddy</td>\n",
       "      <td>6.0</td>\n",
       "    </tr>\n",
       "    <tr>\n",
       "      <th>1</th>\n",
       "      <td>A Chopra</td>\n",
       "      <td>5.8</td>\n",
       "    </tr>\n",
       "    <tr>\n",
       "      <th>2</th>\n",
       "      <td>A Flintoff</td>\n",
       "      <td>21.0</td>\n",
       "    </tr>\n",
       "    <tr>\n",
       "      <th>3</th>\n",
       "      <td>A Mishra</td>\n",
       "      <td>1.0</td>\n",
       "    </tr>\n",
       "    <tr>\n",
       "      <th>4</th>\n",
       "      <td>A Mukund</td>\n",
       "      <td>15.0</td>\n",
       "    </tr>\n",
       "  </tbody>\n",
       "</table>\n",
       "</div>"
      ],
      "text/plain": [
       "          striker  avg_runs\n",
       "0  A Ashish Reddy       6.0\n",
       "1        A Chopra       5.8\n",
       "2      A Flintoff      21.0\n",
       "3        A Mishra       1.0\n",
       "4        A Mukund      15.0"
      ]
     },
     "execution_count": 10,
     "metadata": {},
     "output_type": "execute_result"
    }
   ],
   "source": [
    "# Creating a dataset containing average runs of each batsmen in first six overs\n",
    "batsmen_runs = dataset.groupby(['match_id', 'striker']).total_runs.sum().reset_index()\n",
    "batsmen_data = batsmen_runs.groupby(['striker']).total_runs.mean().reset_index()\n",
    "batsmen_data.columns = ['striker', 'avg_runs']\n",
    "batsmen_data.head()"
   ]
  },
  {
   "cell_type": "code",
   "execution_count": 11,
   "metadata": {
    "execution": {
     "iopub.execute_input": "2021-07-18T11:21:27.889476Z",
     "iopub.status.busy": "2021-07-18T11:21:27.888841Z",
     "iopub.status.idle": "2021-07-18T11:21:27.935216Z",
     "shell.execute_reply": "2021-07-18T11:21:27.934309Z",
     "shell.execute_reply.started": "2021-07-18T11:21:27.889426Z"
    }
   },
   "outputs": [
    {
     "data": {
      "text/html": [
       "<div>\n",
       "<style scoped>\n",
       "    .dataframe tbody tr th:only-of-type {\n",
       "        vertical-align: middle;\n",
       "    }\n",
       "\n",
       "    .dataframe tbody tr th {\n",
       "        vertical-align: top;\n",
       "    }\n",
       "\n",
       "    .dataframe thead th {\n",
       "        text-align: right;\n",
       "    }\n",
       "</style>\n",
       "<table border=\"1\" class=\"dataframe\">\n",
       "  <thead>\n",
       "    <tr style=\"text-align: right;\">\n",
       "      <th></th>\n",
       "      <th>bowler</th>\n",
       "      <th>runs_given</th>\n",
       "      <th>balls</th>\n",
       "      <th>runs_per_ball</th>\n",
       "    </tr>\n",
       "  </thead>\n",
       "  <tbody>\n",
       "    <tr>\n",
       "      <th>0</th>\n",
       "      <td>A Ashish Reddy</td>\n",
       "      <td>20</td>\n",
       "      <td>6</td>\n",
       "      <td>3.333333</td>\n",
       "    </tr>\n",
       "    <tr>\n",
       "      <th>1</th>\n",
       "      <td>A Chandila</td>\n",
       "      <td>139</td>\n",
       "      <td>144</td>\n",
       "      <td>0.965278</td>\n",
       "    </tr>\n",
       "    <tr>\n",
       "      <th>2</th>\n",
       "      <td>A Choudhary</td>\n",
       "      <td>46</td>\n",
       "      <td>37</td>\n",
       "      <td>1.243243</td>\n",
       "    </tr>\n",
       "    <tr>\n",
       "      <th>3</th>\n",
       "      <td>A Dananjaya</td>\n",
       "      <td>12</td>\n",
       "      <td>6</td>\n",
       "      <td>2.000000</td>\n",
       "    </tr>\n",
       "    <tr>\n",
       "      <th>4</th>\n",
       "      <td>A Flintoff</td>\n",
       "      <td>21</td>\n",
       "      <td>12</td>\n",
       "      <td>1.750000</td>\n",
       "    </tr>\n",
       "  </tbody>\n",
       "</table>\n",
       "</div>"
      ],
      "text/plain": [
       "           bowler  runs_given  balls  runs_per_ball\n",
       "0  A Ashish Reddy          20      6       3.333333\n",
       "1      A Chandila         139    144       0.965278\n",
       "2     A Choudhary          46     37       1.243243\n",
       "3     A Dananjaya          12      6       2.000000\n",
       "4      A Flintoff          21     12       1.750000"
      ]
     },
     "execution_count": 11,
     "metadata": {},
     "output_type": "execute_result"
    }
   ],
   "source": [
    "# Creating a dataset containing runs per ball of each bowler\n",
    "bowler_runs = dataset.groupby(['bowler']).total_runs.sum().reset_index()\n",
    "bowler_ball_count = dataset.groupby(['bowler']).ball.count().reset_index()\n",
    "bowler_data = pd.merge(bowler_runs, bowler_ball_count, on='bowler')\n",
    "bowler_data['runs_per_ball'] = bowler_data['total_runs']/bowler_data['ball']\n",
    "bowler_data.columns = ['bowler', 'runs_given', 'balls', 'runs_per_ball']\n",
    "bowler_data.head()"
   ]
  },
  {
   "cell_type": "code",
   "execution_count": 12,
   "metadata": {
    "execution": {
     "iopub.execute_input": "2021-07-18T11:21:27.937276Z",
     "iopub.status.busy": "2021-07-18T11:21:27.936623Z",
     "iopub.status.idle": "2021-07-18T11:21:27.955716Z",
     "shell.execute_reply": "2021-07-18T11:21:27.9543Z",
     "shell.execute_reply.started": "2021-07-18T11:21:27.937226Z"
    }
   },
   "outputs": [
    {
     "data": {
      "text/plain": [
       "{'Arun Jaitley Stadium',\n",
       " 'Barabati Stadium',\n",
       " 'Brabourne Stadium',\n",
       " 'Buffalo Park',\n",
       " 'De Beers Diamond Oval',\n",
       " 'Dr DY Patil Sports Academy',\n",
       " 'Dr. Y.S. Rajasekhara Reddy ACA-VDCA Cricket Stadium',\n",
       " 'Dubai International Cricket Stadium',\n",
       " 'Eden Gardens',\n",
       " 'Feroz Shah Kotla',\n",
       " 'Green Park',\n",
       " 'Himachal Pradesh Cricket Association Stadium',\n",
       " 'Holkar Cricket Stadium',\n",
       " 'JSCA International Stadium Complex',\n",
       " 'Kingsmead',\n",
       " 'M Chinnaswamy Stadium',\n",
       " 'M.Chinnaswamy Stadium',\n",
       " 'MA Chidambaram Stadium',\n",
       " 'MA Chidambaram Stadium, Chepauk',\n",
       " 'MA Chidambaram Stadium, Chepauk, Chennai',\n",
       " 'Maharashtra Cricket Association Stadium',\n",
       " 'Nehru Stadium',\n",
       " 'New Wanderers Stadium',\n",
       " 'Newlands',\n",
       " 'OUTsurance Oval',\n",
       " 'Punjab Cricket Association IS Bindra Stadium',\n",
       " 'Punjab Cricket Association IS Bindra Stadium, Mohali',\n",
       " 'Punjab Cricket Association Stadium, Mohali',\n",
       " 'Rajiv Gandhi International Stadium',\n",
       " 'Rajiv Gandhi International Stadium, Uppal',\n",
       " 'Sardar Patel Stadium, Motera',\n",
       " 'Saurashtra Cricket Association Stadium',\n",
       " 'Sawai Mansingh Stadium',\n",
       " 'Shaheed Veer Narayan Singh International Stadium',\n",
       " 'Sharjah Cricket Stadium',\n",
       " 'Sheikh Zayed Stadium',\n",
       " \"St George's Park\",\n",
       " 'Subrata Roy Sahara Stadium',\n",
       " 'SuperSport Park',\n",
       " 'Vidarbha Cricket Association Stadium, Jamtha',\n",
       " 'Wankhede Stadium',\n",
       " 'Wankhede Stadium, Mumbai'}"
      ]
     },
     "execution_count": 12,
     "metadata": {},
     "output_type": "execute_result"
    }
   ],
   "source": [
    "set(dataset.venue)"
   ]
  },
  {
   "cell_type": "markdown",
   "metadata": {},
   "source": [
    "As we can see here, some of venues of are repeated with slightly varied names.\n",
    "All such venues must be converted to single name for convenience."
   ]
  },
  {
   "cell_type": "code",
   "execution_count": 13,
   "metadata": {
    "execution": {
     "iopub.execute_input": "2021-07-18T11:21:27.957679Z",
     "iopub.status.busy": "2021-07-18T11:21:27.957356Z",
     "iopub.status.idle": "2021-07-18T11:21:28.166437Z",
     "shell.execute_reply": "2021-07-18T11:21:28.165299Z",
     "shell.execute_reply.started": "2021-07-18T11:21:27.957653Z"
    }
   },
   "outputs": [],
   "source": [
    "dataset.loc[dataset.venue.str.contains('Chinnaswamy'), 'venue'] = 'M Chinnaswamy Stadium'\n",
    "dataset.loc[dataset.venue.str.contains('Chidambaram'), 'venue'] = 'MA Chidambaram Stadium'\n",
    "dataset.loc[dataset.venue.str.contains('Punjab Cricket'), 'venue'] = 'Punjab Cricket Association IS Bindra Stadium'\n",
    "dataset.loc[dataset.venue.str.contains('Rajiv Gandhi'), 'venue'] = 'Rajiv Gandhi International Stadium'\n",
    "dataset.loc[dataset.venue.str.contains('Wankhede'), 'venue'] = 'Wankhede Stadium'"
   ]
  },
  {
   "cell_type": "code",
   "execution_count": 14,
   "metadata": {
    "execution": {
     "iopub.execute_input": "2021-07-18T11:21:28.16814Z",
     "iopub.status.busy": "2021-07-18T11:21:28.167824Z",
     "iopub.status.idle": "2021-07-18T11:21:28.184005Z",
     "shell.execute_reply": "2021-07-18T11:21:28.18261Z",
     "shell.execute_reply.started": "2021-07-18T11:21:28.168113Z"
    }
   },
   "outputs": [
    {
     "data": {
      "text/plain": [
       "{'Arun Jaitley Stadium',\n",
       " 'Barabati Stadium',\n",
       " 'Brabourne Stadium',\n",
       " 'Buffalo Park',\n",
       " 'De Beers Diamond Oval',\n",
       " 'Dr DY Patil Sports Academy',\n",
       " 'Dr. Y.S. Rajasekhara Reddy ACA-VDCA Cricket Stadium',\n",
       " 'Dubai International Cricket Stadium',\n",
       " 'Eden Gardens',\n",
       " 'Feroz Shah Kotla',\n",
       " 'Green Park',\n",
       " 'Himachal Pradesh Cricket Association Stadium',\n",
       " 'Holkar Cricket Stadium',\n",
       " 'JSCA International Stadium Complex',\n",
       " 'Kingsmead',\n",
       " 'M Chinnaswamy Stadium',\n",
       " 'MA Chidambaram Stadium',\n",
       " 'Maharashtra Cricket Association Stadium',\n",
       " 'Nehru Stadium',\n",
       " 'New Wanderers Stadium',\n",
       " 'Newlands',\n",
       " 'OUTsurance Oval',\n",
       " 'Punjab Cricket Association IS Bindra Stadium',\n",
       " 'Rajiv Gandhi International Stadium',\n",
       " 'Sardar Patel Stadium, Motera',\n",
       " 'Saurashtra Cricket Association Stadium',\n",
       " 'Sawai Mansingh Stadium',\n",
       " 'Shaheed Veer Narayan Singh International Stadium',\n",
       " 'Sharjah Cricket Stadium',\n",
       " 'Sheikh Zayed Stadium',\n",
       " \"St George's Park\",\n",
       " 'Subrata Roy Sahara Stadium',\n",
       " 'SuperSport Park',\n",
       " 'Vidarbha Cricket Association Stadium, Jamtha',\n",
       " 'Wankhede Stadium'}"
      ]
     },
     "execution_count": 14,
     "metadata": {},
     "output_type": "execute_result"
    }
   ],
   "source": [
    "set(dataset.venue)"
   ]
  },
  {
   "cell_type": "markdown",
   "metadata": {},
   "source": [
    "Now all the venues are given unique names"
   ]
  },
  {
   "cell_type": "code",
   "execution_count": 15,
   "metadata": {
    "execution": {
     "iopub.execute_input": "2021-07-18T11:21:28.186065Z",
     "iopub.status.busy": "2021-07-18T11:21:28.185742Z",
     "iopub.status.idle": "2021-07-18T11:21:28.22392Z",
     "shell.execute_reply": "2021-07-18T11:21:28.222856Z",
     "shell.execute_reply.started": "2021-07-18T11:21:28.186035Z"
    }
   },
   "outputs": [
    {
     "data": {
      "text/html": [
       "<div>\n",
       "<style scoped>\n",
       "    .dataframe tbody tr th:only-of-type {\n",
       "        vertical-align: middle;\n",
       "    }\n",
       "\n",
       "    .dataframe tbody tr th {\n",
       "        vertical-align: top;\n",
       "    }\n",
       "\n",
       "    .dataframe thead th {\n",
       "        text-align: right;\n",
       "    }\n",
       "</style>\n",
       "<table border=\"1\" class=\"dataframe\">\n",
       "  <thead>\n",
       "    <tr style=\"text-align: right;\">\n",
       "      <th></th>\n",
       "      <th>venue</th>\n",
       "      <th>avg_runs</th>\n",
       "    </tr>\n",
       "  </thead>\n",
       "  <tbody>\n",
       "    <tr>\n",
       "      <th>0</th>\n",
       "      <td>Arun Jaitley Stadium</td>\n",
       "      <td>51.461538</td>\n",
       "    </tr>\n",
       "    <tr>\n",
       "      <th>1</th>\n",
       "      <td>Barabati Stadium</td>\n",
       "      <td>43.571429</td>\n",
       "    </tr>\n",
       "    <tr>\n",
       "      <th>2</th>\n",
       "      <td>Brabourne Stadium</td>\n",
       "      <td>51.863636</td>\n",
       "    </tr>\n",
       "    <tr>\n",
       "      <th>3</th>\n",
       "      <td>Buffalo Park</td>\n",
       "      <td>39.500000</td>\n",
       "    </tr>\n",
       "    <tr>\n",
       "      <th>4</th>\n",
       "      <td>De Beers Diamond Oval</td>\n",
       "      <td>40.000000</td>\n",
       "    </tr>\n",
       "  </tbody>\n",
       "</table>\n",
       "</div>"
      ],
      "text/plain": [
       "                   venue   avg_runs\n",
       "0   Arun Jaitley Stadium  51.461538\n",
       "1       Barabati Stadium  43.571429\n",
       "2      Brabourne Stadium  51.863636\n",
       "3           Buffalo Park  39.500000\n",
       "4  De Beers Diamond Oval  40.000000"
      ]
     },
     "execution_count": 15,
     "metadata": {},
     "output_type": "execute_result"
    }
   ],
   "source": [
    "# Creating a dataset containing average runs scored in each stadium i\n",
    "venue_data = dataset.groupby(['match_id', 'innings', 'venue']).total_runs.sum().reset_index()\n",
    "venue_data = venue_data.groupby(['venue']).total_runs.mean().reset_index()\n",
    "venue_data.columns = ['venue', 'avg_runs']\n",
    "venue_data.head()"
   ]
  },
  {
   "cell_type": "code",
   "execution_count": 16,
   "metadata": {
    "execution": {
     "iopub.execute_input": "2021-07-18T11:21:28.225745Z",
     "iopub.status.busy": "2021-07-18T11:21:28.225435Z",
     "iopub.status.idle": "2021-07-18T11:21:28.255261Z",
     "shell.execute_reply": "2021-07-18T11:21:28.254433Z",
     "shell.execute_reply.started": "2021-07-18T11:21:28.225715Z"
    }
   },
   "outputs": [
    {
     "data": {
      "text/html": [
       "<div>\n",
       "<style scoped>\n",
       "    .dataframe tbody tr th:only-of-type {\n",
       "        vertical-align: middle;\n",
       "    }\n",
       "\n",
       "    .dataframe tbody tr th {\n",
       "        vertical-align: top;\n",
       "    }\n",
       "\n",
       "    .dataframe thead th {\n",
       "        text-align: right;\n",
       "    }\n",
       "</style>\n",
       "<table border=\"1\" class=\"dataframe\">\n",
       "  <thead>\n",
       "    <tr style=\"text-align: right;\">\n",
       "      <th></th>\n",
       "      <th>batting_team</th>\n",
       "      <th>avg_runs</th>\n",
       "    </tr>\n",
       "  </thead>\n",
       "  <tbody>\n",
       "    <tr>\n",
       "      <th>0</th>\n",
       "      <td>Chennai Super Kings</td>\n",
       "      <td>45.162921</td>\n",
       "    </tr>\n",
       "    <tr>\n",
       "      <th>1</th>\n",
       "      <td>Deccan Chargers</td>\n",
       "      <td>45.560000</td>\n",
       "    </tr>\n",
       "    <tr>\n",
       "      <th>2</th>\n",
       "      <td>Delhi Capitals</td>\n",
       "      <td>48.656250</td>\n",
       "    </tr>\n",
       "    <tr>\n",
       "      <th>3</th>\n",
       "      <td>Delhi Daredevils</td>\n",
       "      <td>45.662500</td>\n",
       "    </tr>\n",
       "    <tr>\n",
       "      <th>4</th>\n",
       "      <td>Gujarat Lions</td>\n",
       "      <td>51.896552</td>\n",
       "    </tr>\n",
       "  </tbody>\n",
       "</table>\n",
       "</div>"
      ],
      "text/plain": [
       "          batting_team   avg_runs\n",
       "0  Chennai Super Kings  45.162921\n",
       "1      Deccan Chargers  45.560000\n",
       "2       Delhi Capitals  48.656250\n",
       "3     Delhi Daredevils  45.662500\n",
       "4        Gujarat Lions  51.896552"
      ]
     },
     "execution_count": 16,
     "metadata": {},
     "output_type": "execute_result"
    }
   ],
   "source": [
    "# Creating a dataset containing average runs scored by each team in first six overs\n",
    "batting_team_data = dataset.groupby(['match_id', 'batting_team']).total_runs.sum().reset_index()\n",
    "batting_team_data = batting_team_data.groupby(['batting_team']).total_runs.mean().reset_index()\n",
    "batting_team_data.columns = ['batting_team', 'avg_runs']\n",
    "batting_team_data.head()"
   ]
  },
  {
   "cell_type": "code",
   "execution_count": 17,
   "metadata": {
    "execution": {
     "iopub.execute_input": "2021-07-18T11:21:28.256997Z",
     "iopub.status.busy": "2021-07-18T11:21:28.256522Z",
     "iopub.status.idle": "2021-07-18T11:21:28.287962Z",
     "shell.execute_reply": "2021-07-18T11:21:28.286604Z",
     "shell.execute_reply.started": "2021-07-18T11:21:28.256966Z"
    }
   },
   "outputs": [
    {
     "data": {
      "text/html": [
       "<div>\n",
       "<style scoped>\n",
       "    .dataframe tbody tr th:only-of-type {\n",
       "        vertical-align: middle;\n",
       "    }\n",
       "\n",
       "    .dataframe tbody tr th {\n",
       "        vertical-align: top;\n",
       "    }\n",
       "\n",
       "    .dataframe thead th {\n",
       "        text-align: right;\n",
       "    }\n",
       "</style>\n",
       "<table border=\"1\" class=\"dataframe\">\n",
       "  <thead>\n",
       "    <tr style=\"text-align: right;\">\n",
       "      <th></th>\n",
       "      <th>bowling_team</th>\n",
       "      <th>avg_runs</th>\n",
       "    </tr>\n",
       "  </thead>\n",
       "  <tbody>\n",
       "    <tr>\n",
       "      <th>0</th>\n",
       "      <td>Chennai Super Kings</td>\n",
       "      <td>46.011236</td>\n",
       "    </tr>\n",
       "    <tr>\n",
       "      <th>1</th>\n",
       "      <td>Deccan Chargers</td>\n",
       "      <td>43.040000</td>\n",
       "    </tr>\n",
       "    <tr>\n",
       "      <th>2</th>\n",
       "      <td>Delhi Capitals</td>\n",
       "      <td>47.468750</td>\n",
       "    </tr>\n",
       "    <tr>\n",
       "      <th>3</th>\n",
       "      <td>Delhi Daredevils</td>\n",
       "      <td>46.685535</td>\n",
       "    </tr>\n",
       "    <tr>\n",
       "      <th>4</th>\n",
       "      <td>Gujarat Lions</td>\n",
       "      <td>49.275862</td>\n",
       "    </tr>\n",
       "  </tbody>\n",
       "</table>\n",
       "</div>"
      ],
      "text/plain": [
       "          bowling_team   avg_runs\n",
       "0  Chennai Super Kings  46.011236\n",
       "1      Deccan Chargers  43.040000\n",
       "2       Delhi Capitals  47.468750\n",
       "3     Delhi Daredevils  46.685535\n",
       "4        Gujarat Lions  49.275862"
      ]
     },
     "execution_count": 17,
     "metadata": {},
     "output_type": "execute_result"
    }
   ],
   "source": [
    "# Creating a dataset containing average runs given by each team during bowling in first six overs\n",
    "bowling_team_data = dataset.groupby(['match_id', 'bowling_team']).total_runs.sum().reset_index()\n",
    "bowling_team_data = bowling_team_data.groupby(['bowling_team']).total_runs.mean().reset_index()\n",
    "bowling_team_data.columns = ['bowling_team', 'avg_runs']\n",
    "bowling_team_data.head()"
   ]
  },
  {
   "cell_type": "code",
   "execution_count": 18,
   "metadata": {
    "execution": {
     "iopub.execute_input": "2021-07-18T11:21:28.290144Z",
     "iopub.status.busy": "2021-07-18T11:21:28.289717Z",
     "iopub.status.idle": "2021-07-18T11:21:28.334636Z",
     "shell.execute_reply": "2021-07-18T11:21:28.333481Z",
     "shell.execute_reply.started": "2021-07-18T11:21:28.290099Z"
    }
   },
   "outputs": [
    {
     "data": {
      "text/html": [
       "<div>\n",
       "<style scoped>\n",
       "    .dataframe tbody tr th:only-of-type {\n",
       "        vertical-align: middle;\n",
       "    }\n",
       "\n",
       "    .dataframe tbody tr th {\n",
       "        vertical-align: top;\n",
       "    }\n",
       "\n",
       "    .dataframe thead th {\n",
       "        text-align: right;\n",
       "    }\n",
       "</style>\n",
       "<table border=\"1\" class=\"dataframe\">\n",
       "  <thead>\n",
       "    <tr style=\"text-align: right;\">\n",
       "      <th></th>\n",
       "      <th>match_id</th>\n",
       "      <th>venue</th>\n",
       "      <th>innings</th>\n",
       "      <th>batting_team</th>\n",
       "      <th>bowling_team</th>\n",
       "      <th>total_runs</th>\n",
       "    </tr>\n",
       "  </thead>\n",
       "  <tbody>\n",
       "    <tr>\n",
       "      <th>0</th>\n",
       "      <td>335982</td>\n",
       "      <td>M Chinnaswamy Stadium</td>\n",
       "      <td>1</td>\n",
       "      <td>Kolkata Knight Riders</td>\n",
       "      <td>Royal Challengers Bangalore</td>\n",
       "      <td>61</td>\n",
       "    </tr>\n",
       "    <tr>\n",
       "      <th>1</th>\n",
       "      <td>335982</td>\n",
       "      <td>M Chinnaswamy Stadium</td>\n",
       "      <td>2</td>\n",
       "      <td>Royal Challengers Bangalore</td>\n",
       "      <td>Kolkata Knight Riders</td>\n",
       "      <td>26</td>\n",
       "    </tr>\n",
       "    <tr>\n",
       "      <th>2</th>\n",
       "      <td>335983</td>\n",
       "      <td>Punjab Cricket Association IS Bindra Stadium</td>\n",
       "      <td>1</td>\n",
       "      <td>Chennai Super Kings</td>\n",
       "      <td>Kings XI Punjab</td>\n",
       "      <td>53</td>\n",
       "    </tr>\n",
       "    <tr>\n",
       "      <th>3</th>\n",
       "      <td>335983</td>\n",
       "      <td>Punjab Cricket Association IS Bindra Stadium</td>\n",
       "      <td>2</td>\n",
       "      <td>Kings XI Punjab</td>\n",
       "      <td>Chennai Super Kings</td>\n",
       "      <td>63</td>\n",
       "    </tr>\n",
       "    <tr>\n",
       "      <th>4</th>\n",
       "      <td>335984</td>\n",
       "      <td>Feroz Shah Kotla</td>\n",
       "      <td>1</td>\n",
       "      <td>Rajasthan Royals</td>\n",
       "      <td>Delhi Daredevils</td>\n",
       "      <td>40</td>\n",
       "    </tr>\n",
       "  </tbody>\n",
       "</table>\n",
       "</div>"
      ],
      "text/plain": [
       "   match_id                                         venue  innings  \\\n",
       "0    335982                         M Chinnaswamy Stadium        1   \n",
       "1    335982                         M Chinnaswamy Stadium        2   \n",
       "2    335983  Punjab Cricket Association IS Bindra Stadium        1   \n",
       "3    335983  Punjab Cricket Association IS Bindra Stadium        2   \n",
       "4    335984                              Feroz Shah Kotla        1   \n",
       "\n",
       "                  batting_team                 bowling_team  total_runs  \n",
       "0        Kolkata Knight Riders  Royal Challengers Bangalore          61  \n",
       "1  Royal Challengers Bangalore        Kolkata Knight Riders          26  \n",
       "2          Chennai Super Kings              Kings XI Punjab          53  \n",
       "3              Kings XI Punjab          Chennai Super Kings          63  \n",
       "4             Rajasthan Royals             Delhi Daredevils          40  "
      ]
     },
     "execution_count": 18,
     "metadata": {},
     "output_type": "execute_result"
    }
   ],
   "source": [
    "final_data = dataset.groupby(['match_id', 'venue', 'innings', 'batting_team', 'bowling_team']).total_runs.sum().reset_index()\n",
    "final_data.head()"
   ]
  },
  {
   "cell_type": "code",
   "execution_count": 19,
   "metadata": {
    "execution": {
     "iopub.execute_input": "2021-07-18T11:21:28.338017Z",
     "iopub.status.busy": "2021-07-18T11:21:28.337669Z",
     "iopub.status.idle": "2021-07-18T11:21:28.432114Z",
     "shell.execute_reply": "2021-07-18T11:21:28.431029Z",
     "shell.execute_reply.started": "2021-07-18T11:21:28.337986Z"
    }
   },
   "outputs": [
    {
     "name": "stderr",
     "output_type": "stream",
     "text": [
      "<ipython-input-19-be534eaf9c6f>:2: FutureWarning: Indexing with multiple keys (implicitly converted to a tuple of keys) will be deprecated, use a list instead.\n",
      "  bowlers_batsmen = dataset.groupby(['match_id', 'innings'])['striker', 'bowler'].agg(set).reset_index()\n"
     ]
    },
    {
     "data": {
      "text/html": [
       "<div>\n",
       "<style scoped>\n",
       "    .dataframe tbody tr th:only-of-type {\n",
       "        vertical-align: middle;\n",
       "    }\n",
       "\n",
       "    .dataframe tbody tr th {\n",
       "        vertical-align: top;\n",
       "    }\n",
       "\n",
       "    .dataframe thead th {\n",
       "        text-align: right;\n",
       "    }\n",
       "</style>\n",
       "<table border=\"1\" class=\"dataframe\">\n",
       "  <thead>\n",
       "    <tr style=\"text-align: right;\">\n",
       "      <th></th>\n",
       "      <th>match_id</th>\n",
       "      <th>innings</th>\n",
       "      <th>striker</th>\n",
       "      <th>bowler</th>\n",
       "    </tr>\n",
       "  </thead>\n",
       "  <tbody>\n",
       "    <tr>\n",
       "      <th>0</th>\n",
       "      <td>335982</td>\n",
       "      <td>1</td>\n",
       "      <td>{SC Ganguly, BB McCullum, RT Ponting}</td>\n",
       "      <td>{Z Khan, P Kumar, AA Noffke}</td>\n",
       "    </tr>\n",
       "    <tr>\n",
       "      <th>1</th>\n",
       "      <td>335982</td>\n",
       "      <td>2</td>\n",
       "      <td>{W Jaffer, CL White, R Dravid, JH Kallis, V Ko...</td>\n",
       "      <td>{I Sharma, AB Agarkar, AB Dinda}</td>\n",
       "    </tr>\n",
       "    <tr>\n",
       "      <th>2</th>\n",
       "      <td>335983</td>\n",
       "      <td>1</td>\n",
       "      <td>{PA Patel, MEK Hussey, ML Hayden}</td>\n",
       "      <td>{B Lee, JR Hopes, S Sreesanth}</td>\n",
       "    </tr>\n",
       "    <tr>\n",
       "      <th>3</th>\n",
       "      <td>335983</td>\n",
       "      <td>2</td>\n",
       "      <td>{K Goel, JR Hopes}</td>\n",
       "      <td>{MS Gony, JDP Oram}</td>\n",
       "    </tr>\n",
       "    <tr>\n",
       "      <th>4</th>\n",
       "      <td>335984</td>\n",
       "      <td>1</td>\n",
       "      <td>{M Kaif, YK Pathan, SR Watson, T Kohli}</td>\n",
       "      <td>{B Geeves, GD McGrath, MF Maharoof}</td>\n",
       "    </tr>\n",
       "  </tbody>\n",
       "</table>\n",
       "</div>"
      ],
      "text/plain": [
       "   match_id  innings                                            striker  \\\n",
       "0    335982        1              {SC Ganguly, BB McCullum, RT Ponting}   \n",
       "1    335982        2  {W Jaffer, CL White, R Dravid, JH Kallis, V Ko...   \n",
       "2    335983        1                  {PA Patel, MEK Hussey, ML Hayden}   \n",
       "3    335983        2                                 {K Goel, JR Hopes}   \n",
       "4    335984        1            {M Kaif, YK Pathan, SR Watson, T Kohli}   \n",
       "\n",
       "                                bowler  \n",
       "0         {Z Khan, P Kumar, AA Noffke}  \n",
       "1     {I Sharma, AB Agarkar, AB Dinda}  \n",
       "2       {B Lee, JR Hopes, S Sreesanth}  \n",
       "3                  {MS Gony, JDP Oram}  \n",
       "4  {B Geeves, GD McGrath, MF Maharoof}  "
      ]
     },
     "execution_count": 19,
     "metadata": {},
     "output_type": "execute_result"
    }
   ],
   "source": [
    "# Creating a dataset containing names of all batsmen and bowler in each innings\n",
    "bowlers_batsmen = dataset.groupby(['match_id', 'innings'])['striker', 'bowler'].agg(set).reset_index()\n",
    "bowlers_batsmen.head()"
   ]
  },
  {
   "cell_type": "code",
   "execution_count": 20,
   "metadata": {
    "execution": {
     "iopub.execute_input": "2021-07-18T11:21:28.434374Z",
     "iopub.status.busy": "2021-07-18T11:21:28.433943Z",
     "iopub.status.idle": "2021-07-18T11:21:28.464956Z",
     "shell.execute_reply": "2021-07-18T11:21:28.463882Z",
     "shell.execute_reply.started": "2021-07-18T11:21:28.434329Z"
    }
   },
   "outputs": [
    {
     "data": {
      "text/html": [
       "<div>\n",
       "<style scoped>\n",
       "    .dataframe tbody tr th:only-of-type {\n",
       "        vertical-align: middle;\n",
       "    }\n",
       "\n",
       "    .dataframe tbody tr th {\n",
       "        vertical-align: top;\n",
       "    }\n",
       "\n",
       "    .dataframe thead th {\n",
       "        text-align: right;\n",
       "    }\n",
       "</style>\n",
       "<table border=\"1\" class=\"dataframe\">\n",
       "  <thead>\n",
       "    <tr style=\"text-align: right;\">\n",
       "      <th></th>\n",
       "      <th>venue</th>\n",
       "      <th>innings</th>\n",
       "      <th>batting_team</th>\n",
       "      <th>bowling_team</th>\n",
       "      <th>striker</th>\n",
       "      <th>bowler</th>\n",
       "      <th>total_runs</th>\n",
       "    </tr>\n",
       "  </thead>\n",
       "  <tbody>\n",
       "    <tr>\n",
       "      <th>0</th>\n",
       "      <td>M Chinnaswamy Stadium</td>\n",
       "      <td>1</td>\n",
       "      <td>Kolkata Knight Riders</td>\n",
       "      <td>Royal Challengers Bangalore</td>\n",
       "      <td>{SC Ganguly, BB McCullum, RT Ponting}</td>\n",
       "      <td>{Z Khan, P Kumar, AA Noffke}</td>\n",
       "      <td>61</td>\n",
       "    </tr>\n",
       "    <tr>\n",
       "      <th>1</th>\n",
       "      <td>M Chinnaswamy Stadium</td>\n",
       "      <td>2</td>\n",
       "      <td>Royal Challengers Bangalore</td>\n",
       "      <td>Kolkata Knight Riders</td>\n",
       "      <td>{W Jaffer, CL White, R Dravid, JH Kallis, V Ko...</td>\n",
       "      <td>{I Sharma, AB Agarkar, AB Dinda}</td>\n",
       "      <td>26</td>\n",
       "    </tr>\n",
       "    <tr>\n",
       "      <th>2</th>\n",
       "      <td>Punjab Cricket Association IS Bindra Stadium</td>\n",
       "      <td>1</td>\n",
       "      <td>Chennai Super Kings</td>\n",
       "      <td>Kings XI Punjab</td>\n",
       "      <td>{PA Patel, MEK Hussey, ML Hayden}</td>\n",
       "      <td>{B Lee, JR Hopes, S Sreesanth}</td>\n",
       "      <td>53</td>\n",
       "    </tr>\n",
       "    <tr>\n",
       "      <th>3</th>\n",
       "      <td>Punjab Cricket Association IS Bindra Stadium</td>\n",
       "      <td>2</td>\n",
       "      <td>Kings XI Punjab</td>\n",
       "      <td>Chennai Super Kings</td>\n",
       "      <td>{K Goel, JR Hopes}</td>\n",
       "      <td>{MS Gony, JDP Oram}</td>\n",
       "      <td>63</td>\n",
       "    </tr>\n",
       "    <tr>\n",
       "      <th>4</th>\n",
       "      <td>Feroz Shah Kotla</td>\n",
       "      <td>1</td>\n",
       "      <td>Rajasthan Royals</td>\n",
       "      <td>Delhi Daredevils</td>\n",
       "      <td>{M Kaif, YK Pathan, SR Watson, T Kohli}</td>\n",
       "      <td>{B Geeves, GD McGrath, MF Maharoof}</td>\n",
       "      <td>40</td>\n",
       "    </tr>\n",
       "  </tbody>\n",
       "</table>\n",
       "</div>"
      ],
      "text/plain": [
       "                                          venue  innings  \\\n",
       "0                         M Chinnaswamy Stadium        1   \n",
       "1                         M Chinnaswamy Stadium        2   \n",
       "2  Punjab Cricket Association IS Bindra Stadium        1   \n",
       "3  Punjab Cricket Association IS Bindra Stadium        2   \n",
       "4                              Feroz Shah Kotla        1   \n",
       "\n",
       "                  batting_team                 bowling_team  \\\n",
       "0        Kolkata Knight Riders  Royal Challengers Bangalore   \n",
       "1  Royal Challengers Bangalore        Kolkata Knight Riders   \n",
       "2          Chennai Super Kings              Kings XI Punjab   \n",
       "3              Kings XI Punjab          Chennai Super Kings   \n",
       "4             Rajasthan Royals             Delhi Daredevils   \n",
       "\n",
       "                                             striker  \\\n",
       "0              {SC Ganguly, BB McCullum, RT Ponting}   \n",
       "1  {W Jaffer, CL White, R Dravid, JH Kallis, V Ko...   \n",
       "2                  {PA Patel, MEK Hussey, ML Hayden}   \n",
       "3                                 {K Goel, JR Hopes}   \n",
       "4            {M Kaif, YK Pathan, SR Watson, T Kohli}   \n",
       "\n",
       "                                bowler  total_runs  \n",
       "0         {Z Khan, P Kumar, AA Noffke}          61  \n",
       "1     {I Sharma, AB Agarkar, AB Dinda}          26  \n",
       "2       {B Lee, JR Hopes, S Sreesanth}          53  \n",
       "3                  {MS Gony, JDP Oram}          63  \n",
       "4  {B Geeves, GD McGrath, MF Maharoof}          40  "
      ]
     },
     "execution_count": 20,
     "metadata": {},
     "output_type": "execute_result"
    }
   ],
   "source": [
    "# Batsmen and bowlers names are added to final data\n",
    "final_data = pd.merge(final_data, bowlers_batsmen, on=['match_id', 'innings'])\n",
    "final_data = final_data.drop(columns=['match_id'])\n",
    "final_data = final_data[['venue', 'innings', 'batting_team', 'bowling_team', 'striker', 'bowler', 'total_runs']]\n",
    "final_data.head()"
   ]
  },
  {
   "cell_type": "code",
   "execution_count": 21,
   "metadata": {
    "execution": {
     "iopub.execute_input": "2021-07-18T11:21:28.466681Z",
     "iopub.status.busy": "2021-07-18T11:21:28.466393Z",
     "iopub.status.idle": "2021-07-18T11:21:36.728402Z",
     "shell.execute_reply": "2021-07-18T11:21:36.727629Z",
     "shell.execute_reply.started": "2021-07-18T11:21:28.466653Z"
    }
   },
   "outputs": [
    {
     "data": {
      "text/html": [
       "<div>\n",
       "<style scoped>\n",
       "    .dataframe tbody tr th:only-of-type {\n",
       "        vertical-align: middle;\n",
       "    }\n",
       "\n",
       "    .dataframe tbody tr th {\n",
       "        vertical-align: top;\n",
       "    }\n",
       "\n",
       "    .dataframe thead th {\n",
       "        text-align: right;\n",
       "    }\n",
       "</style>\n",
       "<table border=\"1\" class=\"dataframe\">\n",
       "  <thead>\n",
       "    <tr style=\"text-align: right;\">\n",
       "      <th></th>\n",
       "      <th>venue</th>\n",
       "      <th>innings</th>\n",
       "      <th>batting_team</th>\n",
       "      <th>bowling_team</th>\n",
       "      <th>striker</th>\n",
       "      <th>bowler</th>\n",
       "      <th>total_runs</th>\n",
       "    </tr>\n",
       "  </thead>\n",
       "  <tbody>\n",
       "    <tr>\n",
       "      <th>0</th>\n",
       "      <td>45.840764</td>\n",
       "      <td>1</td>\n",
       "      <td>46.380952</td>\n",
       "      <td>46.380208</td>\n",
       "      <td>34.086246</td>\n",
       "      <td>5.498325</td>\n",
       "      <td>61</td>\n",
       "    </tr>\n",
       "    <tr>\n",
       "      <th>1</th>\n",
       "      <td>45.840764</td>\n",
       "      <td>2</td>\n",
       "      <td>44.549223</td>\n",
       "      <td>46.005291</td>\n",
       "      <td>64.536448</td>\n",
       "      <td>3.858576</td>\n",
       "      <td>26</td>\n",
       "    </tr>\n",
       "    <tr>\n",
       "      <th>2</th>\n",
       "      <td>48.428571</td>\n",
       "      <td>1</td>\n",
       "      <td>45.162921</td>\n",
       "      <td>48.129032</td>\n",
       "      <td>51.484716</td>\n",
       "      <td>3.774984</td>\n",
       "      <td>53</td>\n",
       "    </tr>\n",
       "    <tr>\n",
       "      <th>3</th>\n",
       "      <td>48.428571</td>\n",
       "      <td>2</td>\n",
       "      <td>47.005376</td>\n",
       "      <td>46.011236</td>\n",
       "      <td>26.738095</td>\n",
       "      <td>2.954909</td>\n",
       "      <td>63</td>\n",
       "    </tr>\n",
       "    <tr>\n",
       "      <th>4</th>\n",
       "      <td>47.092437</td>\n",
       "      <td>1</td>\n",
       "      <td>44.643312</td>\n",
       "      <td>46.685535</td>\n",
       "      <td>38.68875</td>\n",
       "      <td>4.169147</td>\n",
       "      <td>40</td>\n",
       "    </tr>\n",
       "  </tbody>\n",
       "</table>\n",
       "</div>"
      ],
      "text/plain": [
       "       venue  innings batting_team bowling_team    striker    bowler  \\\n",
       "0  45.840764        1    46.380952    46.380208  34.086246  5.498325   \n",
       "1  45.840764        2    44.549223    46.005291  64.536448  3.858576   \n",
       "2  48.428571        1    45.162921    48.129032  51.484716  3.774984   \n",
       "3  48.428571        2    47.005376    46.011236  26.738095  2.954909   \n",
       "4  47.092437        1    44.643312    46.685535   38.68875  4.169147   \n",
       "\n",
       "   total_runs  \n",
       "0          61  \n",
       "1          26  \n",
       "2          53  \n",
       "3          63  \n",
       "4          40  "
      ]
     },
     "execution_count": 21,
     "metadata": {},
     "output_type": "execute_result"
    }
   ],
   "source": [
    "final2 = final_data.copy()\n",
    "for i in range(len(final_data)):\n",
    "    final_data.iloc[i, 0] = venue_data.loc[venue_data['venue'] == final_data.iloc[i, 0], 'avg_runs']\n",
    "    final_data.iloc[i, 2] = batting_team_data.loc[batting_team_data['batting_team'] == final_data.iloc[i, 2], 'avg_runs']\n",
    "    final_data.iloc[i, 3] = bowling_team_data.loc[bowling_team_data['bowling_team'] == final_data.iloc[i, 3], 'avg_runs']\n",
    "    strikers_avg = 0\n",
    "    for striker in final_data.iloc[i, 4]:\n",
    "        strikers_avg += float(batsmen_data.loc[batsmen_data['striker']==striker, 'avg_runs'])\n",
    "    final_data.iloc[i, 4] = strikers_avg\n",
    "    bowlers_avg = 0\n",
    "    for bowler in final_data.iloc[i, 5]:\n",
    "        bowlers_avg += float(bowler_data.loc[bowler_data['bowler']==bowler, 'runs_per_ball'])\n",
    "    final_data.iloc[i, 5] = bowlers_avg\n",
    "\n",
    "final_data.head()"
   ]
  },
  {
   "cell_type": "markdown",
   "metadata": {},
   "source": [
    "## Train Data"
   ]
  },
  {
   "cell_type": "code",
   "execution_count": 22,
   "metadata": {
    "execution": {
     "iopub.execute_input": "2021-07-18T11:21:36.730063Z",
     "iopub.status.busy": "2021-07-18T11:21:36.729604Z",
     "iopub.status.idle": "2021-07-18T11:21:36.735846Z",
     "shell.execute_reply": "2021-07-18T11:21:36.734767Z",
     "shell.execute_reply.started": "2021-07-18T11:21:36.730019Z"
    }
   },
   "outputs": [],
   "source": [
    "X = final_data.iloc[:, 0:6].values\n",
    "y = final_data.iloc[:, 6].values"
   ]
  },
  {
   "cell_type": "code",
   "execution_count": 23,
   "metadata": {
    "execution": {
     "iopub.execute_input": "2021-07-18T11:21:36.737842Z",
     "iopub.status.busy": "2021-07-18T11:21:36.737444Z",
     "iopub.status.idle": "2021-07-18T11:21:37.813557Z",
     "shell.execute_reply": "2021-07-18T11:21:37.812155Z",
     "shell.execute_reply.started": "2021-07-18T11:21:36.737799Z"
    }
   },
   "outputs": [],
   "source": [
    "from sklearn.model_selection import train_test_split\n",
    "X_train, X_test, y_train, y_test = train_test_split(X, y, test_size=0.1, random_state=2)"
   ]
  },
  {
   "cell_type": "code",
   "execution_count": 24,
   "metadata": {
    "execution": {
     "iopub.execute_input": "2021-07-18T11:21:37.817637Z",
     "iopub.status.busy": "2021-07-18T11:21:37.817167Z",
     "iopub.status.idle": "2021-07-18T11:21:39.292273Z",
     "shell.execute_reply": "2021-07-18T11:21:39.291219Z",
     "shell.execute_reply.started": "2021-07-18T11:21:37.81759Z"
    }
   },
   "outputs": [
    {
     "data": {
      "text/plain": [
       "RandomForestRegressor(n_estimators=200, random_state=2)"
      ]
     },
     "execution_count": 24,
     "metadata": {},
     "output_type": "execute_result"
    }
   ],
   "source": [
    "from sklearn.ensemble import RandomForestRegressor\n",
    "\n",
    "regressor = RandomForestRegressor(n_estimators=200, random_state=2)\n",
    "regressor.fit(X_train, y_train)"
   ]
  },
  {
   "cell_type": "markdown",
   "metadata": {},
   "source": [
    "## Test the model"
   ]
  },
  {
   "cell_type": "code",
   "execution_count": 25,
   "metadata": {
    "execution": {
     "iopub.execute_input": "2021-07-18T11:21:39.293839Z",
     "iopub.status.busy": "2021-07-18T11:21:39.293544Z",
     "iopub.status.idle": "2021-07-18T11:21:39.331858Z",
     "shell.execute_reply": "2021-07-18T11:21:39.330828Z",
     "shell.execute_reply.started": "2021-07-18T11:21:39.29381Z"
    }
   },
   "outputs": [
    {
     "name": "stdout",
     "output_type": "stream",
     "text": [
      "Mean Absolute Error: 8.02496894409938\n",
      "Mean Squared Error: 108.09274813664597\n",
      "Root Mean Squared Error: 10.396766234586886\n"
     ]
    }
   ],
   "source": [
    "from sklearn import metrics\n",
    "\n",
    "y_pred = regressor.predict(X_test)\n",
    "print('Mean Absolute Error:', metrics.mean_absolute_error(y_test, y_pred))\n",
    "print('Mean Squared Error:', metrics.mean_squared_error(y_test, y_pred))\n",
    "print('Root Mean Squared Error:', np.sqrt(metrics.mean_squared_error(y_test, y_pred)))"
   ]
  },
  {
   "cell_type": "markdown",
   "metadata": {},
   "source": [
    "**Using Random Forest Classifier, we got Mean Absolute error of 8.02**"
   ]
  }
 ],
 "metadata": {
  "kernelspec": {
   "display_name": "Python 3",
   "language": "python",
   "name": "python3"
  },
  "language_info": {
   "codemirror_mode": {
    "name": "ipython",
    "version": 3
   },
   "file_extension": ".py",
   "mimetype": "text/x-python",
   "name": "python",
   "nbconvert_exporter": "python",
   "pygments_lexer": "ipython3",
   "version": "3.8.10"
  }
 },
 "nbformat": 4,
 "nbformat_minor": 4
}
